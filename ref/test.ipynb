{
 "cells": [
  {
   "cell_type": "code",
   "execution_count": 5,
   "metadata": {},
   "outputs": [],
   "source": [
    "import cv2\n",
    "\n",
    "# 이미지 읽기\n",
    "image = cv2.imread('t.png')\n",
    "\n",
    "# 이미지 크기 확인\n",
    "image_height, image_width = image.shape[:2]\n",
    "\n",
    "# 상대적인 좌표 설정 (이미지 크기의 1/4 지점부터 3/4 지점까지의 범위)\n",
    "start_x = int(image_width * 0.25)\n",
    "start_y = int(image_height * 0.25)\n",
    "end_x = int(image_width * 0.75)\n",
    "end_y = int(image_height * 0.75)\n",
    "\n",
    "# 태두리 색상 및 두께 설정\n",
    "color = (0, 255, 0)  # 초록색 (BGR 순서)\n",
    "thickness = 1\n",
    "\n",
    "# 상대적인 좌표로 사각형 그리기\n",
    "image_with_rectangle = cv2.rectangle(image.copy(), (start_x, start_y), (end_x, end_y), color, thickness)\n",
    "\n",
    "# 이미지 범위 밖의 픽셀값 바꾸기\n",
    "for y in range(image_height):\n",
    "    for x in range(image_width):\n",
    "        if not (start_x < x < end_x and start_y < y < end_y):\n",
    "            # 범위를 벗어나는 픽셀의 RGB 값을 바꿉니다. 여기서는 흰색으로 변경합니다.\n",
    "            prev = image_with_rectangle[y, x]\n",
    "            \n",
    "            image_with_rectangle[y, x] = max(0, prev[0] - 50), prev[1], prev[2]\n",
    "\n",
    "# 이미지 화면에 표시\n",
    "cv2.imshow('Image with Rectangle', image_with_rectangle)\n",
    "cv2.waitKey(0)\n",
    "cv2.destroyAllWindows()"
   ]
  },
  {
   "cell_type": "code",
   "execution_count": null,
   "metadata": {},
   "outputs": [],
   "source": []
  }
 ],
 "metadata": {
  "kernelspec": {
   "display_name": "base",
   "language": "python",
   "name": "python3"
  },
  "language_info": {
   "codemirror_mode": {
    "name": "ipython",
    "version": 3
   },
   "file_extension": ".py",
   "mimetype": "text/x-python",
   "name": "python",
   "nbconvert_exporter": "python",
   "pygments_lexer": "ipython3",
   "version": "3.11.5"
  }
 },
 "nbformat": 4,
 "nbformat_minor": 2
}
